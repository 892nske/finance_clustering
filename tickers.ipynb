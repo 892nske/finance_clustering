{
 "cells": [
  {
   "cell_type": "code",
   "execution_count": 10,
   "id": "fecce716-a80c-4c4f-b995-ef73e1a6e795",
   "metadata": {},
   "outputs": [],
   "source": [
    "import pandas as pd\n",
    "\n",
    "others_list = 'ftp://ftp.nasdaqtrader.com/symboldirectory/otherlisted.txt'\n",
    "nasdaq_list = 'ftp://ftp.nasdaqtrader.com/symboldirectory/nasdaqlisted.txt'\n",
    "\n",
    "def symbols_nyse():\n",
    "    other = pd.read_csv(others_list, sep='|')\n",
    "    #NYSEのものを取得する\n",
    "    company_nyse = other[other['Exchange']=='N'][['ACT Symbol', 'Security Name']]\n",
    "    #ETFはMYSE MKT、NYSE ARCA、MATSがある。\n",
    "    etf_other = other[other['ETF'] == 'Y'][['ACT Symbol', 'Security Name', 'Exchange']]   \n",
    "    #indexはリセットする\n",
    "    company_nyse = company_nyse.reset_index(drop=True)\n",
    "    etf_other = etf_other.reset_index(drop=True)\n",
    "    #ACT Symbol -> Symbol\n",
    "    company_nyse = company_nyse.rename(columns={'ACT Symbol':'Symbol'})\n",
    "    etf_other = etf_other.rename(columns={'ACT Symbol':'Symbol'})\n",
    "\n",
    "    return company_nyse, etf_other\n",
    "\n",
    "def symbols_nasdaq():\n",
    "    nasdaq = pd.read_csv(nasdaq_list, sep='|')\n",
    "    #StatusがNormalのものだけを取得する\n",
    "    nasdaq_normal = nasdaq[nasdaq['Financial Status']=='N']\n",
    "    #Test issueでないものを選択する\n",
    "    nasdaq_normal = nasdaq_normal[nasdaq_normal['Test Issue']=='N']\n",
    "    #ETFかどうかで判別\n",
    "    company_nasdaq = nasdaq_normal[nasdaq_normal['ETF']=='N'][['Symbol', 'Security Name']]\n",
    "    etf_nasdaq = nasdaq_normal[nasdaq_normal['ETF']=='Y'][['Symbol', 'Security Name']]\n",
    "    #indexはリセットする\n",
    "    company_nasdaq = company_nasdaq.reset_index(drop=True)\n",
    "    etf_nasdaq = etf_nasdaq.reset_index(drop=True)\n",
    "\n",
    "    return company_nasdaq, etf_nasdaq\n",
    "\n",
    "def symbols_all():\n",
    "    company_nyse, etf_other = symbols_nyse()\n",
    "    company_nasdaq, etf_nasdaq = symbols_nasdaq()\n",
    "    #NYSEとNASDAQは区別する\n",
    "    company_nyse['Market'] = 'NYSE'\n",
    "    company_nasdaq['Market'] = 'NASDAQ'    \n",
    "    #NASDAQのETFも区別しておく\n",
    "    etf_nasdaq['Exchange'] = 'NASDAQ'#etf_otherのcolum名に合わせる\n",
    "\n",
    "    return (pd.concat([company_nyse, company_nasdaq], ignore_index=True, sort=False),\n",
    "            pd.concat([etf_other, etf_nasdaq], ignore_index=True, sort=False))\n",
    "\n"
   ]
  },
  {
   "cell_type": "code",
   "execution_count": 11,
   "id": "0a96d77e-80f8-4239-9fd5-0f3f9e78280a",
   "metadata": {},
   "outputs": [],
   "source": [
    "company_nyse, etf_other = symbols_nyse()"
   ]
  },
  {
   "cell_type": "code",
   "execution_count": 12,
   "id": "9b32e406-e1c1-4e6d-8719-3c6d633aeb10",
   "metadata": {},
   "outputs": [],
   "source": [
    "company_nyse.to_csv('company_nyse.csv')"
   ]
  },
  {
   "cell_type": "code",
   "execution_count": null,
   "id": "679418a4-123e-46cc-b3a1-a90d23470ff4",
   "metadata": {},
   "outputs": [],
   "source": []
  }
 ],
 "metadata": {
  "kernelspec": {
   "display_name": "Python 3 (ipykernel)",
   "language": "python",
   "name": "python3"
  },
  "language_info": {
   "codemirror_mode": {
    "name": "ipython",
    "version": 3
   },
   "file_extension": ".py",
   "mimetype": "text/x-python",
   "name": "python",
   "nbconvert_exporter": "python",
   "pygments_lexer": "ipython3",
   "version": "3.8.13"
  }
 },
 "nbformat": 4,
 "nbformat_minor": 5
}
